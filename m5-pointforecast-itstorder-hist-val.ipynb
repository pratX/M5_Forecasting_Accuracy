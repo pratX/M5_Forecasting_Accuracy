{
 "cells": [
  {
   "cell_type": "code",
   "execution_count": 1,
   "metadata": {
    "_cell_guid": "b1076dfc-b9ad-4769-8c92-a6c4dae69d19",
    "_uuid": "8f2839f25d086af736a60e9eeb907d3b93b6e0e5"
   },
   "outputs": [
    {
     "name": "stdout",
     "output_type": "stream",
     "text": [
      "/kaggle/input/m5-forecasting-accuracy/sales_train_validation.csv\n",
      "/kaggle/input/m5-forecasting-accuracy/sample_submission.csv\n",
      "/kaggle/input/m5-forecasting-accuracy/calendar.csv\n",
      "/kaggle/input/m5-forecasting-accuracy/sell_prices.csv\n",
      "/kaggle/input/m5-forecasting-accuracy/sales_train_evaluation.csv\n",
      "/kaggle/input/m5-point-forecast-valweights/weights_df\n",
      "/kaggle/input/m5-point-forecast-valweights/__results__.html\n",
      "/kaggle/input/m5-point-forecast-valweights/custom.css\n",
      "/kaggle/input/m5-point-forecast-valweights/__notebook__.ipynb\n",
      "/kaggle/input/m5-point-forecast-valweights/__output__.json\n",
      "/kaggle/input/m5-point-forecast-createinput-1400/__results__.html\n",
      "/kaggle/input/m5-point-forecast-createinput-1400/cat_feats.pkl\n",
      "/kaggle/input/m5-point-forecast-createinput-1400/X_train_df\n",
      "/kaggle/input/m5-point-forecast-createinput-1400/cat_feats_objs.pkl\n",
      "/kaggle/input/m5-point-forecast-createinput-1400/y_train.npy\n",
      "/kaggle/input/m5-point-forecast-createinput-1400/custom.css\n",
      "/kaggle/input/m5-point-forecast-createinput-1400/y_train_full.npy\n",
      "/kaggle/input/m5-point-forecast-createinput-1400/X_val_df\n",
      "/kaggle/input/m5-point-forecast-createinput-1400/X_train_full_df\n",
      "/kaggle/input/m5-point-forecast-createinput-1400/__notebook__.ipynb\n",
      "/kaggle/input/m5-point-forecast-createinput-1400/cat_feats_name2idx.pkl\n",
      "/kaggle/input/m5-point-forecast-createinput-1400/__output__.json\n",
      "/kaggle/input/m5-point-forecast-createinput-1400/y_val.npy\n"
     ]
    }
   ],
   "source": [
    "# This Python 3 environment comes with many helpful analytics libraries installed\n",
    "# It is defined by the kaggle/python Docker image: https://github.com/kaggle/docker-python\n",
    "# For example, here's several helpful packages to load\n",
    "\n",
    "import numpy as np # linear algebra\n",
    "import pandas as pd # data processing, CSV file I/O (e.g. pd.read_csv)\n",
    "\n",
    "# Input data files are available in the read-only \"../input/\" directory\n",
    "# For example, running this (by clicking run or pressing Shift+Enter) will list all files under the input directory\n",
    "\n",
    "import os\n",
    "for dirname, _, filenames in os.walk('/kaggle/input'):\n",
    "    for filename in filenames:\n",
    "        print(os.path.join(dirname, filename))\n",
    "\n",
    "# You can write up to 5GB to the current directory (/kaggle/working/) that gets preserved as output when you create a version using \"Save & Run All\" \n",
    "# You can also write temporary files to /kaggle/temp/, but they won't be saved outside of the current session"
   ]
  },
  {
   "cell_type": "code",
   "execution_count": 2,
   "metadata": {},
   "outputs": [],
   "source": [
    "import pickle\n",
    "from collections import defaultdict\n",
    "import gc, sys"
   ]
  },
  {
   "cell_type": "code",
   "execution_count": 3,
   "metadata": {},
   "outputs": [],
   "source": [
    "class Category:\n",
    "    def __init__(self, unique_items, item_to_id={}):\n",
    "        self.items = unique_items\n",
    "        self.item_to_id = item_to_id\n",
    "        for _id, item_name in enumerate(self.items):\n",
    "            self.item_to_id[item_name] = _id\n",
    "        self.type = np.int16\n",
    "        if len(self.items) > 30000:\n",
    "            self.type = np.int32\n",
    "    \n",
    "    def encode_series(self, items):\n",
    "        return np.array([self.item_to_id[_item] for _item in items]).astype(self.type)"
   ]
  },
  {
   "cell_type": "code",
   "execution_count": 4,
   "metadata": {
    "_cell_guid": "79c7e3d0-c299-4dcb-8224-4455121ee9b0",
    "_uuid": "d629ff2d2480ee46fbb7e2d37f6b5fab8052498a"
   },
   "outputs": [],
   "source": [
    "with open('../input/m5-point-forecast-createinput-1400/X_train_df', 'rb') as f:\n",
    "    X_train_df = pickle.load(f)\n",
    "y_train = np.load('../input/m5-point-forecast-createinput-1400/y_train.npy')"
   ]
  },
  {
   "cell_type": "code",
   "execution_count": 5,
   "metadata": {},
   "outputs": [],
   "source": [
    "with open('../input/m5-point-forecast-valweights/weights_df', 'rb') as f:\n",
    "    val_weights = pickle.load(f)"
   ]
  },
  {
   "cell_type": "code",
   "execution_count": 6,
   "metadata": {},
   "outputs": [
    {
     "data": {
      "text/html": [
       "<div>\n",
       "<style scoped>\n",
       "    .dataframe tbody tr th:only-of-type {\n",
       "        vertical-align: middle;\n",
       "    }\n",
       "\n",
       "    .dataframe tbody tr th {\n",
       "        vertical-align: top;\n",
       "    }\n",
       "\n",
       "    .dataframe thead th {\n",
       "        text-align: right;\n",
       "    }\n",
       "</style>\n",
       "<table border=\"1\" class=\"dataframe\">\n",
       "  <thead>\n",
       "    <tr style=\"text-align: right;\">\n",
       "      <th></th>\n",
       "      <th>item_id</th>\n",
       "      <th>store_id</th>\n",
       "      <th>day_of_first_sale</th>\n",
       "      <th>weight</th>\n",
       "      <th>K</th>\n",
       "      <th>all_zeros</th>\n",
       "      <th>sales_mean</th>\n",
       "      <th>sales_std</th>\n",
       "    </tr>\n",
       "  </thead>\n",
       "  <tbody>\n",
       "    <tr>\n",
       "      <th>0</th>\n",
       "      <td>HOBBIES_1_001</td>\n",
       "      <td>CA_1</td>\n",
       "      <td>902</td>\n",
       "      <td>0.000060</td>\n",
       "      <td>0.855926</td>\n",
       "      <td>0</td>\n",
       "      <td>0.592483</td>\n",
       "      <td>0.849799</td>\n",
       "    </tr>\n",
       "    <tr>\n",
       "      <th>1</th>\n",
       "      <td>HOBBIES_1_002</td>\n",
       "      <td>CA_1</td>\n",
       "      <td>144</td>\n",
       "      <td>0.000002</td>\n",
       "      <td>1.278055</td>\n",
       "      <td>0</td>\n",
       "      <td>0.278123</td>\n",
       "      <td>0.586817</td>\n",
       "    </tr>\n",
       "    <tr>\n",
       "      <th>2</th>\n",
       "      <td>HOBBIES_1_003</td>\n",
       "      <td>CA_1</td>\n",
       "      <td>1106</td>\n",
       "      <td>0.000013</td>\n",
       "      <td>1.128216</td>\n",
       "      <td>0</td>\n",
       "      <td>0.353160</td>\n",
       "      <td>0.691916</td>\n",
       "    </tr>\n",
       "    <tr>\n",
       "      <th>3</th>\n",
       "      <td>HOBBIES_1_004</td>\n",
       "      <td>CA_1</td>\n",
       "      <td>37</td>\n",
       "      <td>0.000063</td>\n",
       "      <td>0.372943</td>\n",
       "      <td>0</td>\n",
       "      <td>1.751599</td>\n",
       "      <td>1.994428</td>\n",
       "    </tr>\n",
       "    <tr>\n",
       "      <th>4</th>\n",
       "      <td>HOBBIES_1_005</td>\n",
       "      <td>CA_1</td>\n",
       "      <td>113</td>\n",
       "      <td>0.000029</td>\n",
       "      <td>0.611990</td>\n",
       "      <td>0</td>\n",
       "      <td>1.022778</td>\n",
       "      <td>1.300441</td>\n",
       "    </tr>\n",
       "    <tr>\n",
       "      <th>...</th>\n",
       "      <td>...</td>\n",
       "      <td>...</td>\n",
       "      <td>...</td>\n",
       "      <td>...</td>\n",
       "      <td>...</td>\n",
       "      <td>...</td>\n",
       "      <td>...</td>\n",
       "      <td>...</td>\n",
       "    </tr>\n",
       "    <tr>\n",
       "      <th>30485</th>\n",
       "      <td>FOODS_3_823</td>\n",
       "      <td>WI_3</td>\n",
       "      <td>3</td>\n",
       "      <td>0.000005</td>\n",
       "      <td>0.863262</td>\n",
       "      <td>0</td>\n",
       "      <td>0.534031</td>\n",
       "      <td>1.177291</td>\n",
       "    </tr>\n",
       "    <tr>\n",
       "      <th>30486</th>\n",
       "      <td>FOODS_3_824</td>\n",
       "      <td>WI_3</td>\n",
       "      <td>6</td>\n",
       "      <td>0.000006</td>\n",
       "      <td>0.981145</td>\n",
       "      <td>0</td>\n",
       "      <td>0.374934</td>\n",
       "      <td>0.813791</td>\n",
       "    </tr>\n",
       "    <tr>\n",
       "      <th>30487</th>\n",
       "      <td>FOODS_3_825</td>\n",
       "      <td>WI_3</td>\n",
       "      <td>2</td>\n",
       "      <td>0.000027</td>\n",
       "      <td>0.659478</td>\n",
       "      <td>0</td>\n",
       "      <td>0.892726</td>\n",
       "      <td>1.380701</td>\n",
       "    </tr>\n",
       "    <tr>\n",
       "      <th>30488</th>\n",
       "      <td>FOODS_3_826</td>\n",
       "      <td>WI_3</td>\n",
       "      <td>940</td>\n",
       "      <td>0.000009</td>\n",
       "      <td>0.677787</td>\n",
       "      <td>0</td>\n",
       "      <td>0.720452</td>\n",
       "      <td>1.249856</td>\n",
       "    </tr>\n",
       "    <tr>\n",
       "      <th>30489</th>\n",
       "      <td>FOODS_3_827</td>\n",
       "      <td>WI_3</td>\n",
       "      <td>1131</td>\n",
       "      <td>0.000008</td>\n",
       "      <td>0.384445</td>\n",
       "      <td>0</td>\n",
       "      <td>1.695652</td>\n",
       "      <td>1.965028</td>\n",
       "    </tr>\n",
       "  </tbody>\n",
       "</table>\n",
       "<p>30490 rows × 8 columns</p>\n",
       "</div>"
      ],
      "text/plain": [
       "             item_id store_id  day_of_first_sale    weight         K  \\\n",
       "0      HOBBIES_1_001     CA_1                902  0.000060  0.855926   \n",
       "1      HOBBIES_1_002     CA_1                144  0.000002  1.278055   \n",
       "2      HOBBIES_1_003     CA_1               1106  0.000013  1.128216   \n",
       "3      HOBBIES_1_004     CA_1                 37  0.000063  0.372943   \n",
       "4      HOBBIES_1_005     CA_1                113  0.000029  0.611990   \n",
       "...              ...      ...                ...       ...       ...   \n",
       "30485    FOODS_3_823     WI_3                  3  0.000005  0.863262   \n",
       "30486    FOODS_3_824     WI_3                  6  0.000006  0.981145   \n",
       "30487    FOODS_3_825     WI_3                  2  0.000027  0.659478   \n",
       "30488    FOODS_3_826     WI_3                940  0.000009  0.677787   \n",
       "30489    FOODS_3_827     WI_3               1131  0.000008  0.384445   \n",
       "\n",
       "       all_zeros  sales_mean  sales_std  \n",
       "0              0    0.592483   0.849799  \n",
       "1              0    0.278123   0.586817  \n",
       "2              0    0.353160   0.691916  \n",
       "3              0    1.751599   1.994428  \n",
       "4              0    1.022778   1.300441  \n",
       "...          ...         ...        ...  \n",
       "30485          0    0.534031   1.177291  \n",
       "30486          0    0.374934   0.813791  \n",
       "30487          0    0.892726   1.380701  \n",
       "30488          0    0.720452   1.249856  \n",
       "30489          0    1.695652   1.965028  \n",
       "\n",
       "[30490 rows x 8 columns]"
      ]
     },
     "execution_count": 6,
     "metadata": {},
     "output_type": "execute_result"
    }
   ],
   "source": [
    "val_weights"
   ]
  },
  {
   "cell_type": "code",
   "execution_count": 7,
   "metadata": {},
   "outputs": [],
   "source": [
    "X_train_df['y'] = y_train"
   ]
  },
  {
   "cell_type": "code",
   "execution_count": 8,
   "metadata": {},
   "outputs": [],
   "source": [
    "train_df = X_train_df"
   ]
  },
  {
   "cell_type": "code",
   "execution_count": 9,
   "metadata": {},
   "outputs": [],
   "source": [
    "train_df = train_df.loc[train_df.day_id >= 1400].reset_index(drop=True)"
   ]
  },
  {
   "cell_type": "code",
   "execution_count": 10,
   "metadata": {},
   "outputs": [
    {
     "data": {
      "text/plain": [
       "20"
      ]
     },
     "execution_count": 10,
     "metadata": {},
     "output_type": "execute_result"
    }
   ],
   "source": [
    "del X_train_df, y_train\n",
    "gc.collect()"
   ]
  },
  {
   "cell_type": "code",
   "execution_count": 11,
   "metadata": {},
   "outputs": [
    {
     "data": {
      "text/plain": [
       "(15671860, 44)"
      ]
     },
     "execution_count": 11,
     "metadata": {},
     "output_type": "execute_result"
    }
   ],
   "source": [
    "train_df.shape"
   ]
  },
  {
   "cell_type": "code",
   "execution_count": 12,
   "metadata": {},
   "outputs": [],
   "source": [
    "with open('../input/m5-point-forecast-createinput-1400/cat_feats.pkl', 'rb') as f:\n",
    "    cat_feats = pickle.load(f)\n",
    "with open('../input/m5-point-forecast-createinput-1400/cat_feats_name2idx.pkl', 'rb') as f:\n",
    "    cat_feats_name2idx = pickle.load(f)\n",
    "with open('../input/m5-point-forecast-createinput-1400/cat_feats_objs.pkl', 'rb') as f:\n",
    "    cat_feats_objs = pickle.load(f)"
   ]
  },
  {
   "cell_type": "code",
   "execution_count": 13,
   "metadata": {},
   "outputs": [],
   "source": [
    "col_names = train_df.columns"
   ]
  },
  {
   "cell_type": "code",
   "execution_count": 14,
   "metadata": {},
   "outputs": [
    {
     "data": {
      "text/plain": [
       "Index(['item_id', 'dept_id', 'cat_id', 'store_id', 'state_id', 'day_id',\n",
       "       'week_id', 'year', 'month', 'day_of_month', 'day_of_week', 'snap',\n",
       "       'sell_price', 'Chanukah End_lag', 'SuperBowl_lag', 'StPatricksDay_lag',\n",
       "       'LaborDay_lag', 'Pesach End_lag', 'PresidentsDay_lag', 'NewYear_lag',\n",
       "       'ColumbusDay_lag', 'Ramadan starts_lag', 'Purim End_lag',\n",
       "       'LentWeek2_lag', 'Thanksgiving_lag', 'IndependenceDay_lag',\n",
       "       'Christmas_lag', 'NBAFinalsStart_lag', 'Father's day_lag',\n",
       "       'LentStart_lag', 'EidAlAdha_lag', 'VeteransDay_lag',\n",
       "       'MartinLutherKingDay_lag', 'Cinco De Mayo_lag', 'Halloween_lag',\n",
       "       'Easter_lag', 'NBAFinalsEnd_lag', 'OrthodoxChristmas_lag',\n",
       "       'ValentinesDay_lag', 'MemorialDay_lag', 'Eid al-Fitr_lag',\n",
       "       'OrthodoxEaster_lag', 'Mother's day_lag', 'y'],\n",
       "      dtype='object')"
      ]
     },
     "execution_count": 14,
     "metadata": {},
     "output_type": "execute_result"
    }
   ],
   "source": [
    "col_names"
   ]
  },
  {
   "cell_type": "code",
   "execution_count": 15,
   "metadata": {},
   "outputs": [
    {
     "data": {
      "text/plain": [
       "1587"
      ]
     },
     "execution_count": 15,
     "metadata": {},
     "output_type": "execute_result"
    }
   ],
   "source": [
    "(val_weights.weight == 0).sum()"
   ]
  },
  {
   "cell_type": "code",
   "execution_count": 16,
   "metadata": {},
   "outputs": [],
   "source": [
    "# create historical features"
   ]
  },
  {
   "cell_type": "code",
   "execution_count": 17,
   "metadata": {},
   "outputs": [],
   "source": [
    "sales_train_val = pd.read_csv('../input/m5-forecasting-accuracy/sales_train_validation.csv')"
   ]
  },
  {
   "cell_type": "code",
   "execution_count": 18,
   "metadata": {},
   "outputs": [],
   "source": [
    "last_day = 1941"
   ]
  },
  {
   "cell_type": "code",
   "execution_count": 19,
   "metadata": {},
   "outputs": [],
   "source": [
    "col_names_days = []\n",
    "for i in range(1,last_day+1):\n",
    "    col_names_days.append('d_'+str(i))"
   ]
  },
  {
   "cell_type": "code",
   "execution_count": 20,
   "metadata": {},
   "outputs": [],
   "source": [
    "# 28 day lag\n",
    "_28dl_dict = {}\n",
    "for i in range(len(sales_train_val)):\n",
    "    _row = sales_train_val.iloc[i]\n",
    "    unit_sales = _row.iloc[6:].values\n",
    "    _lag = np.zeros(last_day) - 1\n",
    "    _lag[-len(unit_sales):] = unit_sales\n",
    "    _28dl_dict[(_row.item_id, _row.store_id)] = _lag.astype(np.float32)\n",
    "    "
   ]
  },
  {
   "cell_type": "code",
   "execution_count": 21,
   "metadata": {},
   "outputs": [
    {
     "data": {
      "text/plain": [
       "array([-1., -1., -1., ...,  1.,  1.,  1.], dtype=float32)"
      ]
     },
     "execution_count": 21,
     "metadata": {},
     "output_type": "execute_result"
    }
   ],
   "source": [
    "_ser = _28dl_dict[('HOBBIES_1_046', 'CA_1')]; _ser"
   ]
  },
  {
   "cell_type": "code",
   "execution_count": 22,
   "metadata": {},
   "outputs": [
    {
     "name": "stdout",
     "output_type": "stream",
     "text": [
      "0\n",
      "1000\n",
      "2000\n",
      "3000\n",
      "4000\n",
      "5000\n",
      "6000\n",
      "7000\n",
      "8000\n",
      "9000\n",
      "10000\n",
      "11000\n",
      "12000\n",
      "13000\n",
      "14000\n",
      "15000\n",
      "16000\n",
      "17000\n",
      "18000\n",
      "19000\n",
      "20000\n",
      "21000\n",
      "22000\n",
      "23000\n",
      "24000\n",
      "25000\n",
      "26000\n",
      "27000\n",
      "28000\n",
      "29000\n",
      "30000\n"
     ]
    }
   ],
   "source": [
    "# 28_day_lag, 7_day_mean, 7_day_std, 28_day_mean, 28_day_std\n",
    "\n",
    "_28dl_7dm_dict = {}\n",
    "_28dl_7ds_dict = {}\n",
    "_28dl_14dm_dict = {}\n",
    "_28dl_14ds_dict = {}\n",
    "_28dl_21dm_dict = {}\n",
    "_28dl_21ds_dict = {}\n",
    "_28dl_28dm_dict = {}\n",
    "_28dl_28ds_dict = {}\n",
    "_count=0\n",
    "for itst, ser in _28dl_dict.items():\n",
    "    if _count%1000 == 0:\n",
    "        print(_count)\n",
    "    _count+=1\n",
    "    _28dl_7dm_dict[itst] = pd.Series(ser).rolling(7).mean().values.astype(np.float32)\n",
    "    _28dl_7ds_dict[itst] = pd.Series(ser).rolling(7).std().values.astype(np.float32)\n",
    "    _28dl_14dm_dict[itst] = pd.Series(ser).rolling(14).mean().values.astype(np.float32)\n",
    "    _28dl_14ds_dict[itst] = pd.Series(ser).rolling(14).std().values.astype(np.float32)\n",
    "    _28dl_21dm_dict[itst] = pd.Series(ser).rolling(21).mean().values.astype(np.float32)\n",
    "    _28dl_21ds_dict[itst] = pd.Series(ser).rolling(21).std().values.astype(np.float32)\n",
    "    _28dl_28dm_dict[itst] = pd.Series(ser).rolling(28).mean().values.astype(np.float32)\n",
    "    _28dl_28ds_dict[itst] = pd.Series(ser).rolling(28).std().values.astype(np.float32)"
   ]
  },
  {
   "cell_type": "code",
   "execution_count": 23,
   "metadata": {},
   "outputs": [
    {
     "data": {
      "text/plain": [
       "20"
      ]
     },
     "execution_count": 23,
     "metadata": {},
     "output_type": "execute_result"
    }
   ],
   "source": [
    "del sales_train_val\n",
    "gc.collect()"
   ]
  },
  {
   "cell_type": "code",
   "execution_count": 24,
   "metadata": {},
   "outputs": [],
   "source": [
    "def show_progress(progress_str, n_cols=80):\n",
    "    sys.stdout.write(progress_str + (\" \" * max(0, n_cols - len(progress_str))) + \"\\r\")\n",
    "    sys.stdout.flush()"
   ]
  },
  {
   "cell_type": "code",
   "execution_count": 25,
   "metadata": {},
   "outputs": [],
   "source": [
    "hist_feats = ['_28dl', '_28dl_7dm', '_28dl_7ds', '_28dl_14dm', '_28dl_14ds', '_28dl_21dm', '_28dl_21ds', '_28dl_28dm', '_28dl_28ds']"
   ]
  },
  {
   "cell_type": "code",
   "execution_count": 26,
   "metadata": {},
   "outputs": [],
   "source": [
    "def item_store_ordering(df_y):\n",
    "    df_y_gpby_is = df_y.groupby(by=['item_id', 'store_id'])\n",
    "    #result_df = pd.DataFrame(columns=col_names)\n",
    "    result_dict = defaultdict(list)\n",
    "    stats_dict = defaultdict(list)\n",
    "    for i in range(len(val_weights)):\n",
    "        if (i%1000) == 0:\n",
    "            show_progress(f\"Processing item_store: {i+1}/{len(val_weights)}\")\n",
    "        _row = val_weights.iloc[i]\n",
    "        if _row.weight == 0:\n",
    "            continue\n",
    "        _item = cat_feats_objs[cat_feats_name2idx['item_id']].item_to_id[_row.item_id]\n",
    "        _store = cat_feats_objs[cat_feats_name2idx['store_id']].item_to_id[_row.store_id]\n",
    "        _df = df_y_gpby_is.get_group((_item, _store))\n",
    "        result_dict['_28dl'].append(_28dl_dict[(_row.item_id,_row.store_id)][_df.day_id.values-1])\n",
    "        result_dict['_28dl_7dm'].append(_28dl_7dm_dict[(_row.item_id,_row.store_id)][_df.day_id.values-1])\n",
    "        result_dict['_28dl_7ds'].append(_28dl_7ds_dict[(_row.item_id,_row.store_id)][_df.day_id.values-1])\n",
    "        result_dict['_28dl_14dm'].append(_28dl_14dm_dict[(_row.item_id,_row.store_id)][_df.day_id.values-1])\n",
    "        result_dict['_28dl_14ds'].append(_28dl_14ds_dict[(_row.item_id,_row.store_id)][_df.day_id.values-1])\n",
    "        result_dict['_28dl_21dm'].append(_28dl_21dm_dict[(_row.item_id,_row.store_id)][_df.day_id.values-1])\n",
    "        result_dict['_28dl_21ds'].append(_28dl_21ds_dict[(_row.item_id,_row.store_id)][_df.day_id.values-1])\n",
    "        result_dict['_28dl_28dm'].append(_28dl_28dm_dict[(_row.item_id,_row.store_id)][_df.day_id.values-1])\n",
    "        result_dict['_28dl_28ds'].append(_28dl_28ds_dict[(_row.item_id,_row.store_id)][_df.day_id.values-1])\n",
    "        #_df = _df.loc[(_df.day_id >= _row.day_of_first_sale).values]\n",
    "        for col in col_names:\n",
    "            if col == 'y':\n",
    "                y = _df[col].values\n",
    "                result_dict[col].append(y)\n",
    "                # Update stats dict\n",
    "                #stats_dict['item'].append(_item)\n",
    "                #stats_dict['store'].append(_store)\n",
    "                #stats_dict['y_norm_mean'].append(y_norm.mean())\n",
    "                #stats_dict['y_norm_std'].append(y_norm.std())\n",
    "                #stats_dict['y_norm_min'].append(y_norm.min())\n",
    "                #stats_dict['y_norm_max'].append(y_norm.max())\n",
    "            else:\n",
    "                result_dict[col].append(_df[col].values)\n",
    "    for col in col_names:\n",
    "        result_dict[col] = np.concatenate(result_dict[col])\n",
    "    for col in hist_feats:\n",
    "        result_dict[col] = np.concatenate(result_dict[col])\n",
    "    return pd.DataFrame(result_dict)[list(col_names)+hist_feats]"
   ]
  },
  {
   "cell_type": "code",
   "execution_count": 27,
   "metadata": {},
   "outputs": [
    {
     "name": "stdout",
     "output_type": "stream",
     "text": [
      "Processing item_store: 30001/30490                                              \r"
     ]
    },
    {
     "data": {
      "text/plain": [
       "0"
      ]
     },
     "execution_count": 27,
     "metadata": {},
     "output_type": "execute_result"
    }
   ],
   "source": [
    "ordered_train_df = item_store_ordering(train_df)\n",
    "del train_df\n",
    "gc.collect()"
   ]
  },
  {
   "cell_type": "code",
   "execution_count": 28,
   "metadata": {},
   "outputs": [
    {
     "data": {
      "text/html": [
       "<div>\n",
       "<style scoped>\n",
       "    .dataframe tbody tr th:only-of-type {\n",
       "        vertical-align: middle;\n",
       "    }\n",
       "\n",
       "    .dataframe tbody tr th {\n",
       "        vertical-align: top;\n",
       "    }\n",
       "\n",
       "    .dataframe thead th {\n",
       "        text-align: right;\n",
       "    }\n",
       "</style>\n",
       "<table border=\"1\" class=\"dataframe\">\n",
       "  <thead>\n",
       "    <tr style=\"text-align: right;\">\n",
       "      <th></th>\n",
       "      <th>item_id</th>\n",
       "      <th>dept_id</th>\n",
       "      <th>cat_id</th>\n",
       "      <th>store_id</th>\n",
       "      <th>state_id</th>\n",
       "      <th>day_id</th>\n",
       "      <th>week_id</th>\n",
       "      <th>year</th>\n",
       "      <th>month</th>\n",
       "      <th>day_of_month</th>\n",
       "      <th>...</th>\n",
       "      <th>y</th>\n",
       "      <th>_28dl</th>\n",
       "      <th>_28dl_7dm</th>\n",
       "      <th>_28dl_7ds</th>\n",
       "      <th>_28dl_14dm</th>\n",
       "      <th>_28dl_14ds</th>\n",
       "      <th>_28dl_21dm</th>\n",
       "      <th>_28dl_21ds</th>\n",
       "      <th>_28dl_28dm</th>\n",
       "      <th>_28dl_28ds</th>\n",
       "    </tr>\n",
       "  </thead>\n",
       "  <tbody>\n",
       "    <tr>\n",
       "      <th>0</th>\n",
       "      <td>1437</td>\n",
       "      <td>3</td>\n",
       "      <td>1</td>\n",
       "      <td>0</td>\n",
       "      <td>0</td>\n",
       "      <td>1400</td>\n",
       "      <td>11443</td>\n",
       "      <td>2014</td>\n",
       "      <td>11</td>\n",
       "      <td>28</td>\n",
       "      <td>...</td>\n",
       "      <td>0.0</td>\n",
       "      <td>0.0</td>\n",
       "      <td>0.571429</td>\n",
       "      <td>0.534522</td>\n",
       "      <td>0.428571</td>\n",
       "      <td>0.513553</td>\n",
       "      <td>0.380952</td>\n",
       "      <td>0.497613</td>\n",
       "      <td>0.535714</td>\n",
       "      <td>0.744468</td>\n",
       "    </tr>\n",
       "    <tr>\n",
       "      <th>1</th>\n",
       "      <td>1437</td>\n",
       "      <td>3</td>\n",
       "      <td>1</td>\n",
       "      <td>0</td>\n",
       "      <td>0</td>\n",
       "      <td>1401</td>\n",
       "      <td>11444</td>\n",
       "      <td>2014</td>\n",
       "      <td>11</td>\n",
       "      <td>29</td>\n",
       "      <td>...</td>\n",
       "      <td>0.0</td>\n",
       "      <td>1.0</td>\n",
       "      <td>0.571429</td>\n",
       "      <td>0.534522</td>\n",
       "      <td>0.500000</td>\n",
       "      <td>0.518875</td>\n",
       "      <td>0.380952</td>\n",
       "      <td>0.497613</td>\n",
       "      <td>0.500000</td>\n",
       "      <td>0.693889</td>\n",
       "    </tr>\n",
       "    <tr>\n",
       "      <th>2</th>\n",
       "      <td>1437</td>\n",
       "      <td>3</td>\n",
       "      <td>1</td>\n",
       "      <td>0</td>\n",
       "      <td>0</td>\n",
       "      <td>1402</td>\n",
       "      <td>11444</td>\n",
       "      <td>2014</td>\n",
       "      <td>11</td>\n",
       "      <td>30</td>\n",
       "      <td>...</td>\n",
       "      <td>0.0</td>\n",
       "      <td>1.0</td>\n",
       "      <td>0.571429</td>\n",
       "      <td>0.534522</td>\n",
       "      <td>0.571429</td>\n",
       "      <td>0.513553</td>\n",
       "      <td>0.428571</td>\n",
       "      <td>0.507093</td>\n",
       "      <td>0.535714</td>\n",
       "      <td>0.692935</td>\n",
       "    </tr>\n",
       "    <tr>\n",
       "      <th>3</th>\n",
       "      <td>1437</td>\n",
       "      <td>3</td>\n",
       "      <td>1</td>\n",
       "      <td>0</td>\n",
       "      <td>0</td>\n",
       "      <td>1403</td>\n",
       "      <td>11444</td>\n",
       "      <td>2014</td>\n",
       "      <td>12</td>\n",
       "      <td>1</td>\n",
       "      <td>...</td>\n",
       "      <td>0.0</td>\n",
       "      <td>1.0</td>\n",
       "      <td>0.714286</td>\n",
       "      <td>0.487950</td>\n",
       "      <td>0.571429</td>\n",
       "      <td>0.513553</td>\n",
       "      <td>0.476190</td>\n",
       "      <td>0.511766</td>\n",
       "      <td>0.535714</td>\n",
       "      <td>0.692935</td>\n",
       "    </tr>\n",
       "    <tr>\n",
       "      <th>4</th>\n",
       "      <td>1437</td>\n",
       "      <td>3</td>\n",
       "      <td>1</td>\n",
       "      <td>0</td>\n",
       "      <td>0</td>\n",
       "      <td>1404</td>\n",
       "      <td>11444</td>\n",
       "      <td>2014</td>\n",
       "      <td>12</td>\n",
       "      <td>2</td>\n",
       "      <td>...</td>\n",
       "      <td>3.0</td>\n",
       "      <td>0.0</td>\n",
       "      <td>0.571429</td>\n",
       "      <td>0.534522</td>\n",
       "      <td>0.571429</td>\n",
       "      <td>0.513553</td>\n",
       "      <td>0.428571</td>\n",
       "      <td>0.507093</td>\n",
       "      <td>0.428571</td>\n",
       "      <td>0.503953</td>\n",
       "    </tr>\n",
       "    <tr>\n",
       "      <th>...</th>\n",
       "      <td>...</td>\n",
       "      <td>...</td>\n",
       "      <td>...</td>\n",
       "      <td>...</td>\n",
       "      <td>...</td>\n",
       "      <td>...</td>\n",
       "      <td>...</td>\n",
       "      <td>...</td>\n",
       "      <td>...</td>\n",
       "      <td>...</td>\n",
       "      <td>...</td>\n",
       "      <td>...</td>\n",
       "      <td>...</td>\n",
       "      <td>...</td>\n",
       "      <td>...</td>\n",
       "      <td>...</td>\n",
       "      <td>...</td>\n",
       "      <td>...</td>\n",
       "      <td>...</td>\n",
       "      <td>...</td>\n",
       "      <td>...</td>\n",
       "    </tr>\n",
       "    <tr>\n",
       "      <th>14856137</th>\n",
       "      <td>1436</td>\n",
       "      <td>2</td>\n",
       "      <td>0</td>\n",
       "      <td>9</td>\n",
       "      <td>2</td>\n",
       "      <td>1909</td>\n",
       "      <td>11612</td>\n",
       "      <td>2016</td>\n",
       "      <td>4</td>\n",
       "      <td>20</td>\n",
       "      <td>...</td>\n",
       "      <td>0.0</td>\n",
       "      <td>5.0</td>\n",
       "      <td>2.142857</td>\n",
       "      <td>1.951800</td>\n",
       "      <td>2.142857</td>\n",
       "      <td>1.610406</td>\n",
       "      <td>1.809524</td>\n",
       "      <td>1.661898</td>\n",
       "      <td>1.785714</td>\n",
       "      <td>1.728993</td>\n",
       "    </tr>\n",
       "    <tr>\n",
       "      <th>14856138</th>\n",
       "      <td>1436</td>\n",
       "      <td>2</td>\n",
       "      <td>0</td>\n",
       "      <td>9</td>\n",
       "      <td>2</td>\n",
       "      <td>1910</td>\n",
       "      <td>11612</td>\n",
       "      <td>2016</td>\n",
       "      <td>4</td>\n",
       "      <td>21</td>\n",
       "      <td>...</td>\n",
       "      <td>0.0</td>\n",
       "      <td>3.0</td>\n",
       "      <td>2.142857</td>\n",
       "      <td>1.951800</td>\n",
       "      <td>2.357143</td>\n",
       "      <td>1.499084</td>\n",
       "      <td>1.761905</td>\n",
       "      <td>1.609496</td>\n",
       "      <td>1.892857</td>\n",
       "      <td>1.707050</td>\n",
       "    </tr>\n",
       "    <tr>\n",
       "      <th>14856139</th>\n",
       "      <td>1436</td>\n",
       "      <td>2</td>\n",
       "      <td>0</td>\n",
       "      <td>9</td>\n",
       "      <td>2</td>\n",
       "      <td>1911</td>\n",
       "      <td>11612</td>\n",
       "      <td>2016</td>\n",
       "      <td>4</td>\n",
       "      <td>22</td>\n",
       "      <td>...</td>\n",
       "      <td>0.0</td>\n",
       "      <td>2.0</td>\n",
       "      <td>2.428571</td>\n",
       "      <td>1.718249</td>\n",
       "      <td>2.357143</td>\n",
       "      <td>1.499084</td>\n",
       "      <td>1.809524</td>\n",
       "      <td>1.600595</td>\n",
       "      <td>1.928571</td>\n",
       "      <td>1.698116</td>\n",
       "    </tr>\n",
       "    <tr>\n",
       "      <th>14856140</th>\n",
       "      <td>1436</td>\n",
       "      <td>2</td>\n",
       "      <td>0</td>\n",
       "      <td>9</td>\n",
       "      <td>2</td>\n",
       "      <td>1912</td>\n",
       "      <td>11613</td>\n",
       "      <td>2016</td>\n",
       "      <td>4</td>\n",
       "      <td>23</td>\n",
       "      <td>...</td>\n",
       "      <td>0.0</td>\n",
       "      <td>0.0</td>\n",
       "      <td>2.285714</td>\n",
       "      <td>1.889822</td>\n",
       "      <td>2.214286</td>\n",
       "      <td>1.625687</td>\n",
       "      <td>1.666667</td>\n",
       "      <td>1.622755</td>\n",
       "      <td>1.785714</td>\n",
       "      <td>1.685607</td>\n",
       "    </tr>\n",
       "    <tr>\n",
       "      <th>14856141</th>\n",
       "      <td>1436</td>\n",
       "      <td>2</td>\n",
       "      <td>0</td>\n",
       "      <td>9</td>\n",
       "      <td>2</td>\n",
       "      <td>1913</td>\n",
       "      <td>11613</td>\n",
       "      <td>2016</td>\n",
       "      <td>4</td>\n",
       "      <td>24</td>\n",
       "      <td>...</td>\n",
       "      <td>0.0</td>\n",
       "      <td>5.0</td>\n",
       "      <td>2.428571</td>\n",
       "      <td>2.070197</td>\n",
       "      <td>2.285714</td>\n",
       "      <td>1.728876</td>\n",
       "      <td>1.904762</td>\n",
       "      <td>1.729299</td>\n",
       "      <td>1.964286</td>\n",
       "      <td>1.752926</td>\n",
       "    </tr>\n",
       "  </tbody>\n",
       "</table>\n",
       "<p>14856142 rows × 53 columns</p>\n",
       "</div>"
      ],
      "text/plain": [
       "          item_id  dept_id  cat_id  store_id  state_id  day_id  week_id  year  \\\n",
       "0            1437        3       1         0         0    1400    11443  2014   \n",
       "1            1437        3       1         0         0    1401    11444  2014   \n",
       "2            1437        3       1         0         0    1402    11444  2014   \n",
       "3            1437        3       1         0         0    1403    11444  2014   \n",
       "4            1437        3       1         0         0    1404    11444  2014   \n",
       "...           ...      ...     ...       ...       ...     ...      ...   ...   \n",
       "14856137     1436        2       0         9         2    1909    11612  2016   \n",
       "14856138     1436        2       0         9         2    1910    11612  2016   \n",
       "14856139     1436        2       0         9         2    1911    11612  2016   \n",
       "14856140     1436        2       0         9         2    1912    11613  2016   \n",
       "14856141     1436        2       0         9         2    1913    11613  2016   \n",
       "\n",
       "          month  day_of_month  ...    y  _28dl  _28dl_7dm  _28dl_7ds  \\\n",
       "0            11            28  ...  0.0    0.0   0.571429   0.534522   \n",
       "1            11            29  ...  0.0    1.0   0.571429   0.534522   \n",
       "2            11            30  ...  0.0    1.0   0.571429   0.534522   \n",
       "3            12             1  ...  0.0    1.0   0.714286   0.487950   \n",
       "4            12             2  ...  3.0    0.0   0.571429   0.534522   \n",
       "...         ...           ...  ...  ...    ...        ...        ...   \n",
       "14856137      4            20  ...  0.0    5.0   2.142857   1.951800   \n",
       "14856138      4            21  ...  0.0    3.0   2.142857   1.951800   \n",
       "14856139      4            22  ...  0.0    2.0   2.428571   1.718249   \n",
       "14856140      4            23  ...  0.0    0.0   2.285714   1.889822   \n",
       "14856141      4            24  ...  0.0    5.0   2.428571   2.070197   \n",
       "\n",
       "          _28dl_14dm  _28dl_14ds  _28dl_21dm  _28dl_21ds  _28dl_28dm  \\\n",
       "0           0.428571    0.513553    0.380952    0.497613    0.535714   \n",
       "1           0.500000    0.518875    0.380952    0.497613    0.500000   \n",
       "2           0.571429    0.513553    0.428571    0.507093    0.535714   \n",
       "3           0.571429    0.513553    0.476190    0.511766    0.535714   \n",
       "4           0.571429    0.513553    0.428571    0.507093    0.428571   \n",
       "...              ...         ...         ...         ...         ...   \n",
       "14856137    2.142857    1.610406    1.809524    1.661898    1.785714   \n",
       "14856138    2.357143    1.499084    1.761905    1.609496    1.892857   \n",
       "14856139    2.357143    1.499084    1.809524    1.600595    1.928571   \n",
       "14856140    2.214286    1.625687    1.666667    1.622755    1.785714   \n",
       "14856141    2.285714    1.728876    1.904762    1.729299    1.964286   \n",
       "\n",
       "          _28dl_28ds  \n",
       "0           0.744468  \n",
       "1           0.693889  \n",
       "2           0.692935  \n",
       "3           0.692935  \n",
       "4           0.503953  \n",
       "...              ...  \n",
       "14856137    1.728993  \n",
       "14856138    1.707050  \n",
       "14856139    1.698116  \n",
       "14856140    1.685607  \n",
       "14856141    1.752926  \n",
       "\n",
       "[14856142 rows x 53 columns]"
      ]
     },
     "execution_count": 28,
     "metadata": {},
     "output_type": "execute_result"
    }
   ],
   "source": [
    "ordered_train_df"
   ]
  },
  {
   "cell_type": "code",
   "execution_count": 29,
   "metadata": {},
   "outputs": [],
   "source": [
    "with open('../input/m5-point-forecast-createinput-1400/X_val_df', 'rb') as f:\n",
    "    X_val_df = pickle.load(f)\n",
    "y_val = np.load('../input/m5-point-forecast-createinput-1400/y_val.npy')"
   ]
  },
  {
   "cell_type": "code",
   "execution_count": 30,
   "metadata": {},
   "outputs": [],
   "source": [
    "X_val_df['y'] = y_val"
   ]
  },
  {
   "cell_type": "code",
   "execution_count": 31,
   "metadata": {},
   "outputs": [],
   "source": [
    "val_df = X_val_df"
   ]
  },
  {
   "cell_type": "code",
   "execution_count": 32,
   "metadata": {},
   "outputs": [
    {
     "name": "stdout",
     "output_type": "stream",
     "text": [
      "Processing item_store: 30001/30490                                              \r"
     ]
    },
    {
     "data": {
      "text/plain": [
       "0"
      ]
     },
     "execution_count": 32,
     "metadata": {},
     "output_type": "execute_result"
    }
   ],
   "source": [
    "ordered_val_df = item_store_ordering(val_df)\n",
    "del val_df, X_val_df, y_val\n",
    "gc.collect()"
   ]
  },
  {
   "cell_type": "code",
   "execution_count": 33,
   "metadata": {},
   "outputs": [],
   "source": [
    "ordered_train_df.to_pickle('ordered_train_df.pkl')"
   ]
  },
  {
   "cell_type": "code",
   "execution_count": 34,
   "metadata": {},
   "outputs": [],
   "source": [
    "ordered_val_df.to_pickle('ordered_val_df.pkl')"
   ]
  },
  {
   "cell_type": "code",
   "execution_count": 35,
   "metadata": {},
   "outputs": [],
   "source": [
    "val_weights.to_pickle('val_weights.pkl')"
   ]
  },
  {
   "cell_type": "code",
   "execution_count": 36,
   "metadata": {},
   "outputs": [
    {
     "name": "stdout",
     "output_type": "stream",
     "text": [
      "total 1.9G\r\n",
      "-rw-r--r-- 1 root root 1.7M Jun 29 18:27 val_weights.pkl\r\n",
      "-rw-r--r-- 1 root root  96M Jun 29 18:27 ordered_val_df.pkl\r\n",
      "-rw-r--r-- 1 root root 1.8G Jun 29 18:27 ordered_train_df.pkl\r\n",
      "---------- 1 root root  14K Jun 29 18:21 __notebook__.ipynb\r\n",
      "drwxr-xr-x 6 root root 4.0K Jun 29 18:21 ..\r\n",
      "drwxr-xr-x 2 root root 4.0K Jun 29 18:27 .\r\n"
     ]
    }
   ],
   "source": [
    "! ls -alrh"
   ]
  },
  {
   "cell_type": "code",
   "execution_count": 37,
   "metadata": {},
   "outputs": [],
   "source": [
    "with open('_28dl_dict.pkl', 'wb') as f:\n",
    "    pickle.dump(_28dl_dict, f)"
   ]
  },
  {
   "cell_type": "code",
   "execution_count": 38,
   "metadata": {},
   "outputs": [],
   "source": [
    "with open('_28dl_7dm_dict.pkl', 'wb') as f:\n",
    "    pickle.dump(_28dl_7dm_dict, f)"
   ]
  },
  {
   "cell_type": "code",
   "execution_count": 39,
   "metadata": {},
   "outputs": [],
   "source": [
    "with open('_28dl_7ds_dict.pkl', 'wb') as f:\n",
    "    pickle.dump(_28dl_7ds_dict, f)"
   ]
  },
  {
   "cell_type": "code",
   "execution_count": 40,
   "metadata": {},
   "outputs": [],
   "source": [
    "with open('_28dl_14dm_dict.pkl', 'wb') as f:\n",
    "    pickle.dump(_28dl_14dm_dict, f)"
   ]
  },
  {
   "cell_type": "code",
   "execution_count": 41,
   "metadata": {},
   "outputs": [],
   "source": [
    "with open('_28dl_14ds_dict.pkl', 'wb') as f:\n",
    "    pickle.dump(_28dl_14ds_dict, f)"
   ]
  },
  {
   "cell_type": "code",
   "execution_count": 42,
   "metadata": {},
   "outputs": [],
   "source": [
    "with open('_28dl_21dm_dict.pkl', 'wb') as f:\n",
    "    pickle.dump(_28dl_7dm_dict, f)"
   ]
  },
  {
   "cell_type": "code",
   "execution_count": 43,
   "metadata": {},
   "outputs": [],
   "source": [
    "with open('_28dl_21ds_dict.pkl', 'wb') as f:\n",
    "    pickle.dump(_28dl_7ds_dict, f)"
   ]
  },
  {
   "cell_type": "code",
   "execution_count": 44,
   "metadata": {},
   "outputs": [],
   "source": [
    "with open('_28dl_28dm_dict.pkl', 'wb') as f:\n",
    "    pickle.dump(_28dl_28dm_dict, f)"
   ]
  },
  {
   "cell_type": "code",
   "execution_count": 45,
   "metadata": {},
   "outputs": [],
   "source": [
    "with open('_28dl_28ds_dict.pkl', 'wb') as f:\n",
    "    pickle.dump(_28dl_28ds_dict, f)"
   ]
  },
  {
   "cell_type": "code",
   "execution_count": 46,
   "metadata": {},
   "outputs": [
    {
     "name": "stdout",
     "output_type": "stream",
     "text": [
      "total 3.9G\r\n",
      "-rw-r--r-- 1 root root 1.7M Jun 29 18:27 val_weights.pkl\r\n",
      "-rw-r--r-- 1 root root  96M Jun 29 18:27 ordered_val_df.pkl\r\n",
      "-rw-r--r-- 1 root root 1.8G Jun 29 18:27 ordered_train_df.pkl\r\n",
      "---------- 1 root root  14K Jun 29 18:21 __notebook__.ipynb\r\n",
      "-rw-r--r-- 1 root root 229M Jun 29 18:27 _28dl_dict.pkl\r\n",
      "-rw-r--r-- 1 root root 229M Jun 29 18:27 _28dl_7ds_dict.pkl\r\n",
      "-rw-r--r-- 1 root root 229M Jun 29 18:27 _28dl_7dm_dict.pkl\r\n",
      "-rw-r--r-- 1 root root 229M Jun 29 18:27 _28dl_28ds_dict.pkl\r\n",
      "-rw-r--r-- 1 root root 229M Jun 29 18:27 _28dl_28dm_dict.pkl\r\n",
      "-rw-r--r-- 1 root root 229M Jun 29 18:27 _28dl_21ds_dict.pkl\r\n",
      "-rw-r--r-- 1 root root 229M Jun 29 18:27 _28dl_21dm_dict.pkl\r\n",
      "-rw-r--r-- 1 root root 229M Jun 29 18:27 _28dl_14ds_dict.pkl\r\n",
      "-rw-r--r-- 1 root root 229M Jun 29 18:27 _28dl_14dm_dict.pkl\r\n",
      "drwxr-xr-x 6 root root 4.0K Jun 29 18:21 ..\r\n",
      "drwxr-xr-x 2 root root 4.0K Jun 29 18:27 .\r\n"
     ]
    }
   ],
   "source": [
    "! ls -alrh "
   ]
  },
  {
   "cell_type": "code",
   "execution_count": 47,
   "metadata": {},
   "outputs": [],
   "source": [
    "with open('hist_feats.pkl', 'wb') as f:\n",
    "    pickle.dump(hist_feats, f)"
   ]
  },
  {
   "cell_type": "code",
   "execution_count": 48,
   "metadata": {},
   "outputs": [
    {
     "name": "stdout",
     "output_type": "stream",
     "text": [
      "total 3.9G\r\n",
      "-rw-r--r-- 1 root root 1.7M Jun 29 18:27 val_weights.pkl\r\n",
      "-rw-r--r-- 1 root root  96M Jun 29 18:27 ordered_val_df.pkl\r\n",
      "-rw-r--r-- 1 root root 1.8G Jun 29 18:27 ordered_train_df.pkl\r\n",
      "-rw-r--r-- 1 root root  154 Jun 29 18:27 hist_feats.pkl\r\n",
      "---------- 1 root root  14K Jun 29 18:21 __notebook__.ipynb\r\n",
      "-rw-r--r-- 1 root root 229M Jun 29 18:27 _28dl_dict.pkl\r\n",
      "-rw-r--r-- 1 root root 229M Jun 29 18:27 _28dl_7ds_dict.pkl\r\n",
      "-rw-r--r-- 1 root root 229M Jun 29 18:27 _28dl_7dm_dict.pkl\r\n",
      "-rw-r--r-- 1 root root 229M Jun 29 18:27 _28dl_28ds_dict.pkl\r\n",
      "-rw-r--r-- 1 root root 229M Jun 29 18:27 _28dl_28dm_dict.pkl\r\n",
      "-rw-r--r-- 1 root root 229M Jun 29 18:27 _28dl_21ds_dict.pkl\r\n",
      "-rw-r--r-- 1 root root 229M Jun 29 18:27 _28dl_21dm_dict.pkl\r\n",
      "-rw-r--r-- 1 root root 229M Jun 29 18:27 _28dl_14ds_dict.pkl\r\n",
      "-rw-r--r-- 1 root root 229M Jun 29 18:27 _28dl_14dm_dict.pkl\r\n",
      "drwxr-xr-x 6 root root 4.0K Jun 29 18:21 ..\r\n",
      "drwxr-xr-x 2 root root 4.0K Jun 29 18:27 .\r\n"
     ]
    }
   ],
   "source": [
    "! ls -alrh "
   ]
  },
  {
   "cell_type": "code",
   "execution_count": null,
   "metadata": {},
   "outputs": [],
   "source": []
  }
 ],
 "metadata": {
  "kernelspec": {
   "display_name": "Python 3",
   "language": "python",
   "name": "python3"
  },
  "language_info": {
   "codemirror_mode": {
    "name": "ipython",
    "version": 3
   },
   "file_extension": ".py",
   "mimetype": "text/x-python",
   "name": "python",
   "nbconvert_exporter": "python",
   "pygments_lexer": "ipython3",
   "version": "3.7.6"
  }
 },
 "nbformat": 4,
 "nbformat_minor": 4
}
